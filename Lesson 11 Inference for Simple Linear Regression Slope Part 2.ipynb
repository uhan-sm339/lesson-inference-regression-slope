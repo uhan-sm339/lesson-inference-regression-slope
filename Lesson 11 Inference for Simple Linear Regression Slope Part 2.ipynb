{
 "cells": [
  {
   "cell_type": "markdown",
   "id": "6267ec29-0874-40f5-852d-0b08f0e158aa",
   "metadata": {
    "editable": true,
    "slideshow": {
     "slide_type": ""
    },
    "tags": []
   },
   "source": [
    "**SM339 &#x25aa; Applied Statistics &#x25aa; Spring 2024 &#x25aa; Uhan**"
   ]
  },
  {
   "cell_type": "markdown",
   "id": "708ef632-7aee-4c5d-b8bc-ffb18b1fc56a",
   "metadata": {
    "editable": true,
    "slideshow": {
     "slide_type": ""
    },
    "tags": []
   },
   "source": [
    "# Lesson 11. Inference for Regresion Slope &ndash; Part 2"
   ]
  },
  {
   "cell_type": "markdown",
   "id": "ed088cb9-9b87-4978-ad22-70a81b7615e0",
   "metadata": {
    "editable": true,
    "slideshow": {
     "slide_type": ""
    },
    "tags": []
   },
   "source": [
    "## Example"
   ]
  },
  {
   "cell_type": "markdown",
   "id": "dae14193-df1c-4b23-8c76-895097fad20e",
   "metadata": {},
   "source": [
    "Let's look at the `PorschePrice` data again."
   ]
  },
  {
   "cell_type": "code",
   "execution_count": 1,
   "id": "7306f4f4-a1da-4372-93b3-19619969902d",
   "metadata": {},
   "outputs": [
    {
     "data": {
      "text/html": [
       "<table class=\"dataframe\">\n",
       "<caption>A data.frame: 6 × 3</caption>\n",
       "<thead>\n",
       "\t<tr><th></th><th scope=col>Price</th><th scope=col>Age</th><th scope=col>Mileage</th></tr>\n",
       "\t<tr><th></th><th scope=col>&lt;dbl&gt;</th><th scope=col>&lt;int&gt;</th><th scope=col>&lt;dbl&gt;</th></tr>\n",
       "</thead>\n",
       "<tbody>\n",
       "\t<tr><th scope=row>1</th><td>69.4</td><td>3</td><td>21.5</td></tr>\n",
       "\t<tr><th scope=row>2</th><td>56.9</td><td>3</td><td>43.0</td></tr>\n",
       "\t<tr><th scope=row>3</th><td>49.9</td><td>2</td><td>19.9</td></tr>\n",
       "\t<tr><th scope=row>4</th><td>47.4</td><td>4</td><td>36.0</td></tr>\n",
       "\t<tr><th scope=row>5</th><td>42.9</td><td>4</td><td>44.0</td></tr>\n",
       "\t<tr><th scope=row>6</th><td>36.9</td><td>6</td><td>49.8</td></tr>\n",
       "</tbody>\n",
       "</table>\n"
      ],
      "text/latex": [
       "A data.frame: 6 × 3\n",
       "\\begin{tabular}{r|lll}\n",
       "  & Price & Age & Mileage\\\\\n",
       "  & <dbl> & <int> & <dbl>\\\\\n",
       "\\hline\n",
       "\t1 & 69.4 & 3 & 21.5\\\\\n",
       "\t2 & 56.9 & 3 & 43.0\\\\\n",
       "\t3 & 49.9 & 2 & 19.9\\\\\n",
       "\t4 & 47.4 & 4 & 36.0\\\\\n",
       "\t5 & 42.9 & 4 & 44.0\\\\\n",
       "\t6 & 36.9 & 6 & 49.8\\\\\n",
       "\\end{tabular}\n"
      ],
      "text/markdown": [
       "\n",
       "A data.frame: 6 × 3\n",
       "\n",
       "| <!--/--> | Price &lt;dbl&gt; | Age &lt;int&gt; | Mileage &lt;dbl&gt; |\n",
       "|---|---|---|---|\n",
       "| 1 | 69.4 | 3 | 21.5 |\n",
       "| 2 | 56.9 | 3 | 43.0 |\n",
       "| 3 | 49.9 | 2 | 19.9 |\n",
       "| 4 | 47.4 | 4 | 36.0 |\n",
       "| 5 | 42.9 | 4 | 44.0 |\n",
       "| 6 | 36.9 | 6 | 49.8 |\n",
       "\n"
      ],
      "text/plain": [
       "  Price Age Mileage\n",
       "1 69.4  3   21.5   \n",
       "2 56.9  3   43.0   \n",
       "3 49.9  2   19.9   \n",
       "4 47.4  4   36.0   \n",
       "5 42.9  4   44.0   \n",
       "6 36.9  6   49.8   "
      ]
     },
     "metadata": {},
     "output_type": "display_data"
    }
   ],
   "source": [
    "library(Stat2Data)\n",
    "data(PorschePrice)\n",
    "head(PorschePrice)"
   ]
  },
  {
   "cell_type": "markdown",
   "id": "6ab549b9-597e-4155-896c-3ddfe49cff59",
   "metadata": {},
   "source": [
    "As we saw in Lesson 6, we can fit a simple linear regression model predicting $\\mathit{Price}$ from $\\mathit{Mileage}$."
   ]
  },
  {
   "cell_type": "code",
   "execution_count": 2,
   "id": "bf7112b0-d3b9-4907-a981-8d8aada6c6d7",
   "metadata": {},
   "outputs": [],
   "source": [
    "fit <- lm(Price ~ Mileage, data = PorschePrice)"
   ]
  },
  {
   "cell_type": "code",
   "execution_count": 3,
   "id": "c2e9f523-6b11-49c5-8c24-ed8299474eaf",
   "metadata": {},
   "outputs": [
    {
     "data": {
      "text/plain": [
       "\n",
       "Call:\n",
       "lm(formula = Price ~ Mileage, data = PorschePrice)\n",
       "\n",
       "Residuals:\n",
       "     Min       1Q   Median       3Q      Max \n",
       "-19.3077  -4.0470  -0.3945   3.8374  12.6758 \n",
       "\n",
       "Coefficients:\n",
       "            Estimate Std. Error t value Pr(>|t|)    \n",
       "(Intercept) 71.09045    2.36986    30.0  < 2e-16 ***\n",
       "Mileage     -0.58940    0.05665   -10.4 3.98e-11 ***\n",
       "---\n",
       "Signif. codes:  0 ‘***’ 0.001 ‘**’ 0.01 ‘*’ 0.05 ‘.’ 0.1 ‘ ’ 1\n",
       "\n",
       "Residual standard error: 7.17 on 28 degrees of freedom\n",
       "Multiple R-squared:  0.7945,\tAdjusted R-squared:  0.7872 \n",
       "F-statistic: 108.3 on 1 and 28 DF,  p-value: 3.982e-11\n"
      ]
     },
     "metadata": {},
     "output_type": "display_data"
    }
   ],
   "source": [
    "summary(fit)"
   ]
  },
  {
   "cell_type": "markdown",
   "id": "2a862186-2a7d-424d-9f0b-618b4e25a88d",
   "metadata": {},
   "source": [
    "We can use the following R code to compute a 95% confidence interval for $\\beta_1$:"
   ]
  },
  {
   "cell_type": "code",
   "execution_count": 4,
   "id": "a6e171e3-ce1c-47a5-a137-ad30f49ee3ab",
   "metadata": {},
   "outputs": [
    {
     "data": {
      "text/html": [
       "<table class=\"dataframe\">\n",
       "<caption>A matrix: 2 × 2 of type dbl</caption>\n",
       "<thead>\n",
       "\t<tr><th></th><th scope=col>2.5 %</th><th scope=col>97.5 %</th></tr>\n",
       "</thead>\n",
       "<tbody>\n",
       "\t<tr><th scope=row>(Intercept)</th><td>66.2360186</td><td>75.9448869</td></tr>\n",
       "\t<tr><th scope=row>Mileage</th><td>-0.7054401</td><td>-0.4733618</td></tr>\n",
       "</tbody>\n",
       "</table>\n"
      ],
      "text/latex": [
       "A matrix: 2 × 2 of type dbl\n",
       "\\begin{tabular}{r|ll}\n",
       "  & 2.5 \\% & 97.5 \\%\\\\\n",
       "\\hline\n",
       "\t(Intercept) & 66.2360186 & 75.9448869\\\\\n",
       "\tMileage & -0.7054401 & -0.4733618\\\\\n",
       "\\end{tabular}\n"
      ],
      "text/markdown": [
       "\n",
       "A matrix: 2 × 2 of type dbl\n",
       "\n",
       "| <!--/--> | 2.5 % | 97.5 % |\n",
       "|---|---|---|\n",
       "| (Intercept) | 66.2360186 | 75.9448869 |\n",
       "| Mileage | -0.7054401 | -0.4733618 |\n",
       "\n"
      ],
      "text/plain": [
       "            2.5 %      97.5 %    \n",
       "(Intercept) 66.2360186 75.9448869\n",
       "Mileage     -0.7054401 -0.4733618"
      ]
     },
     "metadata": {},
     "output_type": "display_data"
    }
   ],
   "source": [
    "confint(fit, level=0.95)"
   ]
  }
 ],
 "metadata": {
  "kernelspec": {
   "display_name": "R",
   "language": "R",
   "name": "ir"
  },
  "language_info": {
   "codemirror_mode": "r",
   "file_extension": ".r",
   "mimetype": "text/x-r-source",
   "name": "R",
   "pygments_lexer": "r",
   "version": "4.3.2"
  }
 },
 "nbformat": 4,
 "nbformat_minor": 5
}
